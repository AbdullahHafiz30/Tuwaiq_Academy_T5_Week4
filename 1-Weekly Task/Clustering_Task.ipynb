{
 "cells": [
  {
   "cell_type": "markdown",
   "id": "f0946ef5",
   "metadata": {},
   "source": [
    "# Clustering and Dimensionality Reduction Exam\n",
    "Welcome to the weekly project on clustering and dimensionality reduction. You will be working with a dataset of traffic accidents.\n",
    "\n",
    "## Dataset\n",
    "The dataset that will be used in this task is `Traffic_Accidents.csv`\n",
    "\n",
    "## Instructions\n",
    "- Follow the steps outlined below.\n",
    "- Write your code in the empty code cells.\n",
    "- Comment on your code to explain your reasoning.\n",
    "\n",
    "## Dataset Overview\n",
    "The dataset contains information about traffic accidents, including location, weather conditions, road conditions, and more. Below are sample of these columns:\n",
    "\n",
    "* `Location_Easting_OSGR`: Easting coordinate of the accident location.\n",
    "* `Location_Northing_OSGR`: Northing coordinate of the accident location.\n",
    "* `Longitude`: Longitude of the accident site.\n",
    "* `Latitude`: Latitude of the accident site.\n",
    "* `Police_Force`: Identifier for the police force involved.\n",
    "* `Accident_Severity`: Severity of the accident.\n",
    "* `Number_of_Vehicles`: Number of vehicles involved in the accident.\n",
    "* `Number_of_Casualties`: Number of casualties in the accident.\n",
    "* `Date`: Date of the accident.\n",
    "* `Day_of_Week`: Day of the week when the accident occurred.\n",
    "* `Speed_limit`: Speed limit in the area where the accident occurred.\n",
    "* `Weather_Conditions`: Weather conditions at the time of the accident.\n",
    "* `Road_Surface_Conditions`: Condition of the road surface during the accident.\n",
    "* `Urban_or_Rural_Area`: Whether the accident occurred in an urban or rural area.\n",
    "* `Year`: Year when the accident was recorded.\n",
    "* Additional attributes related to road type, pedestrian crossing, light conditions, etc.\n",
    "\n",
    "## Goal\n",
    "The primary goal is to analyze the accidents based on their geographical location.\n"
   ]
  },
  {
   "cell_type": "markdown",
   "id": "e2d10a84",
   "metadata": {},
   "source": [
    "## Import Libraries"
   ]
  },
  {
   "cell_type": "code",
   "execution_count": 158,
   "id": "9ee4bcdb",
   "metadata": {},
   "outputs": [],
   "source": [
    "import pandas as pd\n",
    "import numpy as np\n",
    "import seaborn as sns\n",
    "from sklearn.preprocessing import LabelEncoder, StandardScaler\n",
    "from sklearn.metrics import classification_report\n",
    "from sklearn.linear_model import LogisticRegression\n",
    "from sklearn.tree import DecisionTreeClassifier\n",
    "from sklearn.ensemble import BaggingClassifier, AdaBoostClassifier, StackingClassifier\n",
    "from sklearn.metrics import accuracy_score\n",
    "from sklearn.neighbors import KNeighborsClassifier\n",
    "from sklearn.model_selection import train_test_split\n",
    "import matplotlib.pyplot as plt"
   ]
  },
  {
   "cell_type": "markdown",
   "id": "8a257dea",
   "metadata": {},
   "source": [
    "## Load the Data"
   ]
  },
  {
   "cell_type": "code",
   "execution_count": 159,
   "id": "2832846e",
   "metadata": {},
   "outputs": [
    {
     "data": {
      "text/html": [
       "<div>\n",
       "<style scoped>\n",
       "    .dataframe tbody tr th:only-of-type {\n",
       "        vertical-align: middle;\n",
       "    }\n",
       "\n",
       "    .dataframe tbody tr th {\n",
       "        vertical-align: top;\n",
       "    }\n",
       "\n",
       "    .dataframe thead th {\n",
       "        text-align: right;\n",
       "    }\n",
       "</style>\n",
       "<table border=\"1\" class=\"dataframe\">\n",
       "  <thead>\n",
       "    <tr style=\"text-align: right;\">\n",
       "      <th></th>\n",
       "      <th>Location_Easting_OSGR</th>\n",
       "      <th>Location_Northing_OSGR</th>\n",
       "      <th>Longitude</th>\n",
       "      <th>Latitude</th>\n",
       "      <th>Police_Force</th>\n",
       "      <th>Accident_Severity</th>\n",
       "      <th>Number_of_Vehicles</th>\n",
       "      <th>Number_of_Casualties</th>\n",
       "      <th>Date</th>\n",
       "      <th>Day_of_Week</th>\n",
       "      <th>...</th>\n",
       "      <th>2nd_Road_Class</th>\n",
       "      <th>2nd_Road_Number</th>\n",
       "      <th>Pedestrian_Crossing-Human_Control</th>\n",
       "      <th>Pedestrian_Crossing-Physical_Facilities</th>\n",
       "      <th>Light_Conditions</th>\n",
       "      <th>Weather_Conditions</th>\n",
       "      <th>Road_Surface_Conditions</th>\n",
       "      <th>Urban_or_Rural_Area</th>\n",
       "      <th>Did_Police_Officer_Attend_Scene_of_Accident</th>\n",
       "      <th>Year</th>\n",
       "    </tr>\n",
       "  </thead>\n",
       "  <tbody>\n",
       "    <tr>\n",
       "      <th>0</th>\n",
       "      <td>560530.0</td>\n",
       "      <td>103950.0</td>\n",
       "      <td>0.277298</td>\n",
       "      <td>50.812789</td>\n",
       "      <td>47</td>\n",
       "      <td>3.0</td>\n",
       "      <td>1</td>\n",
       "      <td>1.0</td>\n",
       "      <td>27/11/2009</td>\n",
       "      <td>6</td>\n",
       "      <td>...</td>\n",
       "      <td>-1</td>\n",
       "      <td>0</td>\n",
       "      <td>None within 50 metres</td>\n",
       "      <td>No physical crossing within 50 meters</td>\n",
       "      <td>Darkeness: No street lighting</td>\n",
       "      <td>Raining with high winds</td>\n",
       "      <td>Flood (Over 3cm of water)</td>\n",
       "      <td>2.0</td>\n",
       "      <td>Yes</td>\n",
       "      <td>2009</td>\n",
       "    </tr>\n",
       "    <tr>\n",
       "      <th>1</th>\n",
       "      <td>508860.0</td>\n",
       "      <td>187170.0</td>\n",
       "      <td>-0.430574</td>\n",
       "      <td>51.572846</td>\n",
       "      <td>1</td>\n",
       "      <td>3.0</td>\n",
       "      <td>2</td>\n",
       "      <td>1.0</td>\n",
       "      <td>10/10/2010</td>\n",
       "      <td>1</td>\n",
       "      <td>...</td>\n",
       "      <td>6</td>\n",
       "      <td>0</td>\n",
       "      <td>None within 50 metres</td>\n",
       "      <td>No physical crossing within 50 meters</td>\n",
       "      <td>Darkness: Street lights present and lit</td>\n",
       "      <td>Fine without high winds</td>\n",
       "      <td>Dry</td>\n",
       "      <td>1.0</td>\n",
       "      <td>Yes</td>\n",
       "      <td>2010</td>\n",
       "    </tr>\n",
       "    <tr>\n",
       "      <th>2</th>\n",
       "      <td>314460.0</td>\n",
       "      <td>169130.0</td>\n",
       "      <td>-3.231459</td>\n",
       "      <td>51.414661</td>\n",
       "      <td>62</td>\n",
       "      <td>3.0</td>\n",
       "      <td>2</td>\n",
       "      <td>1.0</td>\n",
       "      <td>14/09/2005</td>\n",
       "      <td>4</td>\n",
       "      <td>...</td>\n",
       "      <td>3</td>\n",
       "      <td>4055</td>\n",
       "      <td>None within 50 metres</td>\n",
       "      <td>No physical crossing within 50 meters</td>\n",
       "      <td>Daylight: Street light present</td>\n",
       "      <td>Fine without high winds</td>\n",
       "      <td>Dry</td>\n",
       "      <td>1.0</td>\n",
       "      <td>Yes</td>\n",
       "      <td>2005</td>\n",
       "    </tr>\n",
       "    <tr>\n",
       "      <th>3</th>\n",
       "      <td>341700.0</td>\n",
       "      <td>408330.0</td>\n",
       "      <td>-2.881800</td>\n",
       "      <td>53.568318</td>\n",
       "      <td>4</td>\n",
       "      <td>3.0</td>\n",
       "      <td>1</td>\n",
       "      <td>2.0</td>\n",
       "      <td>18/08/2007</td>\n",
       "      <td>7</td>\n",
       "      <td>...</td>\n",
       "      <td>6</td>\n",
       "      <td>0</td>\n",
       "      <td>None within 50 metres</td>\n",
       "      <td>No physical crossing within 50 meters</td>\n",
       "      <td>Daylight: Street light present</td>\n",
       "      <td>Raining without high winds</td>\n",
       "      <td>Wet/Damp</td>\n",
       "      <td>1.0</td>\n",
       "      <td>Yes</td>\n",
       "      <td>2007</td>\n",
       "    </tr>\n",
       "    <tr>\n",
       "      <th>4</th>\n",
       "      <td>386488.0</td>\n",
       "      <td>350090.0</td>\n",
       "      <td>-2.203020</td>\n",
       "      <td>53.047882</td>\n",
       "      <td>21</td>\n",
       "      <td>3.0</td>\n",
       "      <td>2</td>\n",
       "      <td>2.0</td>\n",
       "      <td>06/08/2013</td>\n",
       "      <td>3</td>\n",
       "      <td>...</td>\n",
       "      <td>-1</td>\n",
       "      <td>0</td>\n",
       "      <td>None within 50 metres</td>\n",
       "      <td>No physical crossing within 50 meters</td>\n",
       "      <td>Daylight: Street light present</td>\n",
       "      <td>Fine without high winds</td>\n",
       "      <td>Dry</td>\n",
       "      <td>1.0</td>\n",
       "      <td>Yes</td>\n",
       "      <td>2013</td>\n",
       "    </tr>\n",
       "  </tbody>\n",
       "</table>\n",
       "<p>5 rows × 26 columns</p>\n",
       "</div>"
      ],
      "text/plain": [
       "   Location_Easting_OSGR  Location_Northing_OSGR  Longitude   Latitude  \\\n",
       "0               560530.0                103950.0   0.277298  50.812789   \n",
       "1               508860.0                187170.0  -0.430574  51.572846   \n",
       "2               314460.0                169130.0  -3.231459  51.414661   \n",
       "3               341700.0                408330.0  -2.881800  53.568318   \n",
       "4               386488.0                350090.0  -2.203020  53.047882   \n",
       "\n",
       "   Police_Force  Accident_Severity  Number_of_Vehicles  Number_of_Casualties  \\\n",
       "0            47                3.0                   1                   1.0   \n",
       "1             1                3.0                   2                   1.0   \n",
       "2            62                3.0                   2                   1.0   \n",
       "3             4                3.0                   1                   2.0   \n",
       "4            21                3.0                   2                   2.0   \n",
       "\n",
       "         Date  Day_of_Week  ...  2nd_Road_Class 2nd_Road_Number  \\\n",
       "0  27/11/2009            6  ...              -1               0   \n",
       "1  10/10/2010            1  ...               6               0   \n",
       "2  14/09/2005            4  ...               3            4055   \n",
       "3  18/08/2007            7  ...               6               0   \n",
       "4  06/08/2013            3  ...              -1               0   \n",
       "\n",
       "   Pedestrian_Crossing-Human_Control  Pedestrian_Crossing-Physical_Facilities  \\\n",
       "0              None within 50 metres    No physical crossing within 50 meters   \n",
       "1              None within 50 metres    No physical crossing within 50 meters   \n",
       "2              None within 50 metres    No physical crossing within 50 meters   \n",
       "3              None within 50 metres    No physical crossing within 50 meters   \n",
       "4              None within 50 metres    No physical crossing within 50 meters   \n",
       "\n",
       "                          Light_Conditions          Weather_Conditions  \\\n",
       "0            Darkeness: No street lighting     Raining with high winds   \n",
       "1  Darkness: Street lights present and lit     Fine without high winds   \n",
       "2           Daylight: Street light present     Fine without high winds   \n",
       "3           Daylight: Street light present  Raining without high winds   \n",
       "4           Daylight: Street light present     Fine without high winds   \n",
       "\n",
       "     Road_Surface_Conditions  Urban_or_Rural_Area  \\\n",
       "0  Flood (Over 3cm of water)                  2.0   \n",
       "1                        Dry                  1.0   \n",
       "2                        Dry                  1.0   \n",
       "3                   Wet/Damp                  1.0   \n",
       "4                        Dry                  1.0   \n",
       "\n",
       "  Did_Police_Officer_Attend_Scene_of_Accident  Year  \n",
       "0                                         Yes  2009  \n",
       "1                                         Yes  2010  \n",
       "2                                         Yes  2005  \n",
       "3                                         Yes  2007  \n",
       "4                                         Yes  2013  \n",
       "\n",
       "[5 rows x 26 columns]"
      ]
     },
     "execution_count": 159,
     "metadata": {},
     "output_type": "execute_result"
    }
   ],
   "source": [
    "df = pd.read_csv(\"C:\\\\Users\\\\abo_O\\\\OneDrive\\\\سطح المكتب\\\\Tuwaiq Academy\\\\Tuwaiq_Academy_T5_Week_4\\\\1-Weekly Task\\\\Datasets\\\\Traffic_Accidents.csv\")\n",
    "df.head()"
   ]
  },
  {
   "cell_type": "markdown",
   "id": "4106d3c7",
   "metadata": {},
   "source": [
    "## Exploratory Data Analysis (EDA)\n",
    "Perform EDA to understand the data better. This involves several steps to summarize the main characteristics, uncover patterns, and establish relationships:\n",
    "* Find the dataset information and observe the datatypes.\n",
    "* Check the shape of the data to understand its structure.\n",
    "* View the the data with various functions to get an initial sense of the data.\n",
    "* Perform summary statistics on the dataset to grasp central tendencies and variability.\n",
    "* Check for duplicated data.\n",
    "* Check for null values.\n",
    "\n",
    "And apply more if needed!\n"
   ]
  },
  {
   "cell_type": "code",
   "execution_count": 160,
   "id": "204be163",
   "metadata": {},
   "outputs": [
    {
     "data": {
      "text/plain": [
       "Location_Easting_OSGR                          float64\n",
       "Location_Northing_OSGR                         float64\n",
       "Longitude                                      float64\n",
       "Latitude                                       float64\n",
       "Police_Force                                     int64\n",
       "Accident_Severity                              float64\n",
       "Number_of_Vehicles                               int64\n",
       "Number_of_Casualties                           float64\n",
       "Date                                            object\n",
       "Day_of_Week                                      int64\n",
       "Local_Authority_(District)                       int64\n",
       "Local_Authority_(Highway)                       object\n",
       "1st_Road_Class                                   int64\n",
       "1st_Road_Number                                  int64\n",
       "Road_Type                                       object\n",
       "Speed_limit                                      int64\n",
       "2nd_Road_Class                                   int64\n",
       "2nd_Road_Number                                  int64\n",
       "Pedestrian_Crossing-Human_Control               object\n",
       "Pedestrian_Crossing-Physical_Facilities         object\n",
       "Light_Conditions                                object\n",
       "Weather_Conditions                              object\n",
       "Road_Surface_Conditions                         object\n",
       "Urban_or_Rural_Area                            float64\n",
       "Did_Police_Officer_Attend_Scene_of_Accident     object\n",
       "Year                                             int64\n",
       "dtype: object"
      ]
     },
     "execution_count": 160,
     "metadata": {},
     "output_type": "execute_result"
    }
   ],
   "source": [
    "df.dtypes"
   ]
  },
  {
   "cell_type": "code",
   "execution_count": 161,
   "id": "23ba149e",
   "metadata": {},
   "outputs": [
    {
     "data": {
      "text/html": [
       "<div>\n",
       "<style scoped>\n",
       "    .dataframe tbody tr th:only-of-type {\n",
       "        vertical-align: middle;\n",
       "    }\n",
       "\n",
       "    .dataframe tbody tr th {\n",
       "        vertical-align: top;\n",
       "    }\n",
       "\n",
       "    .dataframe thead th {\n",
       "        text-align: right;\n",
       "    }\n",
       "</style>\n",
       "<table border=\"1\" class=\"dataframe\">\n",
       "  <thead>\n",
       "    <tr style=\"text-align: right;\">\n",
       "      <th></th>\n",
       "      <th>Location_Easting_OSGR</th>\n",
       "      <th>Location_Northing_OSGR</th>\n",
       "      <th>Longitude</th>\n",
       "      <th>Latitude</th>\n",
       "      <th>Police_Force</th>\n",
       "      <th>Accident_Severity</th>\n",
       "      <th>Number_of_Vehicles</th>\n",
       "      <th>Number_of_Casualties</th>\n",
       "      <th>Day_of_Week</th>\n",
       "      <th>Local_Authority_(District)</th>\n",
       "      <th>1st_Road_Class</th>\n",
       "      <th>1st_Road_Number</th>\n",
       "      <th>Speed_limit</th>\n",
       "      <th>2nd_Road_Class</th>\n",
       "      <th>2nd_Road_Number</th>\n",
       "      <th>Urban_or_Rural_Area</th>\n",
       "      <th>Year</th>\n",
       "    </tr>\n",
       "  </thead>\n",
       "  <tbody>\n",
       "    <tr>\n",
       "      <th>count</th>\n",
       "      <td>52000.000000</td>\n",
       "      <td>5.200000e+04</td>\n",
       "      <td>52000.000000</td>\n",
       "      <td>52000.000000</td>\n",
       "      <td>52000.000000</td>\n",
       "      <td>51678.000000</td>\n",
       "      <td>52000.000000</td>\n",
       "      <td>50959.000000</td>\n",
       "      <td>52000.000000</td>\n",
       "      <td>52000.000000</td>\n",
       "      <td>52000.000000</td>\n",
       "      <td>52000.000000</td>\n",
       "      <td>52000.000000</td>\n",
       "      <td>52000.000000</td>\n",
       "      <td>52000.000000</td>\n",
       "      <td>51912.000000</td>\n",
       "      <td>52000.000000</td>\n",
       "    </tr>\n",
       "    <tr>\n",
       "      <th>mean</th>\n",
       "      <td>440284.256846</td>\n",
       "      <td>2.998617e+05</td>\n",
       "      <td>-1.427193</td>\n",
       "      <td>52.586684</td>\n",
       "      <td>30.401712</td>\n",
       "      <td>2.837145</td>\n",
       "      <td>1.834327</td>\n",
       "      <td>1.354756</td>\n",
       "      <td>4.130712</td>\n",
       "      <td>349.542558</td>\n",
       "      <td>4.080519</td>\n",
       "      <td>997.078077</td>\n",
       "      <td>39.148558</td>\n",
       "      <td>2.672673</td>\n",
       "      <td>384.503058</td>\n",
       "      <td>1.359397</td>\n",
       "      <td>2009.401788</td>\n",
       "    </tr>\n",
       "    <tr>\n",
       "      <th>std</th>\n",
       "      <td>95109.751221</td>\n",
       "      <td>1.613624e+05</td>\n",
       "      <td>1.398249</td>\n",
       "      <td>1.453049</td>\n",
       "      <td>25.545581</td>\n",
       "      <td>0.402582</td>\n",
       "      <td>0.727856</td>\n",
       "      <td>0.855220</td>\n",
       "      <td>1.926217</td>\n",
       "      <td>259.504721</td>\n",
       "      <td>1.428056</td>\n",
       "      <td>1806.405065</td>\n",
       "      <td>14.212826</td>\n",
       "      <td>3.205080</td>\n",
       "      <td>1304.989395</td>\n",
       "      <td>0.479868</td>\n",
       "      <td>3.006997</td>\n",
       "    </tr>\n",
       "    <tr>\n",
       "      <th>min</th>\n",
       "      <td>98480.000000</td>\n",
       "      <td>1.903000e+04</td>\n",
       "      <td>-6.895268</td>\n",
       "      <td>50.026153</td>\n",
       "      <td>1.000000</td>\n",
       "      <td>1.000000</td>\n",
       "      <td>1.000000</td>\n",
       "      <td>1.000000</td>\n",
       "      <td>1.000000</td>\n",
       "      <td>1.000000</td>\n",
       "      <td>1.000000</td>\n",
       "      <td>0.000000</td>\n",
       "      <td>15.000000</td>\n",
       "      <td>-1.000000</td>\n",
       "      <td>-1.000000</td>\n",
       "      <td>1.000000</td>\n",
       "      <td>2005.000000</td>\n",
       "    </tr>\n",
       "    <tr>\n",
       "      <th>25%</th>\n",
       "      <td>375540.000000</td>\n",
       "      <td>1.780100e+05</td>\n",
       "      <td>-2.366190</td>\n",
       "      <td>51.487676</td>\n",
       "      <td>7.000000</td>\n",
       "      <td>3.000000</td>\n",
       "      <td>1.000000</td>\n",
       "      <td>1.000000</td>\n",
       "      <td>2.000000</td>\n",
       "      <td>112.000000</td>\n",
       "      <td>3.000000</td>\n",
       "      <td>0.000000</td>\n",
       "      <td>30.000000</td>\n",
       "      <td>-1.000000</td>\n",
       "      <td>0.000000</td>\n",
       "      <td>1.000000</td>\n",
       "      <td>2006.000000</td>\n",
       "    </tr>\n",
       "    <tr>\n",
       "      <th>50%</th>\n",
       "      <td>440950.000000</td>\n",
       "      <td>2.671800e+05</td>\n",
       "      <td>-1.391202</td>\n",
       "      <td>52.295042</td>\n",
       "      <td>30.000000</td>\n",
       "      <td>3.000000</td>\n",
       "      <td>2.000000</td>\n",
       "      <td>1.000000</td>\n",
       "      <td>4.000000</td>\n",
       "      <td>323.000000</td>\n",
       "      <td>4.000000</td>\n",
       "      <td>128.500000</td>\n",
       "      <td>30.000000</td>\n",
       "      <td>3.000000</td>\n",
       "      <td>0.000000</td>\n",
       "      <td>1.000000</td>\n",
       "      <td>2010.000000</td>\n",
       "    </tr>\n",
       "    <tr>\n",
       "      <th>75%</th>\n",
       "      <td>523500.000000</td>\n",
       "      <td>3.981492e+05</td>\n",
       "      <td>-0.214666</td>\n",
       "      <td>53.478016</td>\n",
       "      <td>46.000000</td>\n",
       "      <td>3.000000</td>\n",
       "      <td>2.000000</td>\n",
       "      <td>1.000000</td>\n",
       "      <td>6.000000</td>\n",
       "      <td>530.000000</td>\n",
       "      <td>6.000000</td>\n",
       "      <td>716.000000</td>\n",
       "      <td>50.000000</td>\n",
       "      <td>6.000000</td>\n",
       "      <td>0.000000</td>\n",
       "      <td>2.000000</td>\n",
       "      <td>2012.000000</td>\n",
       "    </tr>\n",
       "    <tr>\n",
       "      <th>max</th>\n",
       "      <td>654960.000000</td>\n",
       "      <td>1.203900e+06</td>\n",
       "      <td>1.753632</td>\n",
       "      <td>60.714774</td>\n",
       "      <td>98.000000</td>\n",
       "      <td>3.000000</td>\n",
       "      <td>34.000000</td>\n",
       "      <td>51.000000</td>\n",
       "      <td>7.000000</td>\n",
       "      <td>941.000000</td>\n",
       "      <td>6.000000</td>\n",
       "      <td>9999.000000</td>\n",
       "      <td>70.000000</td>\n",
       "      <td>6.000000</td>\n",
       "      <td>9999.000000</td>\n",
       "      <td>3.000000</td>\n",
       "      <td>2014.000000</td>\n",
       "    </tr>\n",
       "  </tbody>\n",
       "</table>\n",
       "</div>"
      ],
      "text/plain": [
       "       Location_Easting_OSGR  Location_Northing_OSGR     Longitude  \\\n",
       "count           52000.000000            5.200000e+04  52000.000000   \n",
       "mean           440284.256846            2.998617e+05     -1.427193   \n",
       "std             95109.751221            1.613624e+05      1.398249   \n",
       "min             98480.000000            1.903000e+04     -6.895268   \n",
       "25%            375540.000000            1.780100e+05     -2.366190   \n",
       "50%            440950.000000            2.671800e+05     -1.391202   \n",
       "75%            523500.000000            3.981492e+05     -0.214666   \n",
       "max            654960.000000            1.203900e+06      1.753632   \n",
       "\n",
       "           Latitude  Police_Force  Accident_Severity  Number_of_Vehicles  \\\n",
       "count  52000.000000  52000.000000       51678.000000        52000.000000   \n",
       "mean      52.586684     30.401712           2.837145            1.834327   \n",
       "std        1.453049     25.545581           0.402582            0.727856   \n",
       "min       50.026153      1.000000           1.000000            1.000000   \n",
       "25%       51.487676      7.000000           3.000000            1.000000   \n",
       "50%       52.295042     30.000000           3.000000            2.000000   \n",
       "75%       53.478016     46.000000           3.000000            2.000000   \n",
       "max       60.714774     98.000000           3.000000           34.000000   \n",
       "\n",
       "       Number_of_Casualties   Day_of_Week  Local_Authority_(District)  \\\n",
       "count          50959.000000  52000.000000                52000.000000   \n",
       "mean               1.354756      4.130712                  349.542558   \n",
       "std                0.855220      1.926217                  259.504721   \n",
       "min                1.000000      1.000000                    1.000000   \n",
       "25%                1.000000      2.000000                  112.000000   \n",
       "50%                1.000000      4.000000                  323.000000   \n",
       "75%                1.000000      6.000000                  530.000000   \n",
       "max               51.000000      7.000000                  941.000000   \n",
       "\n",
       "       1st_Road_Class  1st_Road_Number   Speed_limit  2nd_Road_Class  \\\n",
       "count    52000.000000     52000.000000  52000.000000    52000.000000   \n",
       "mean         4.080519       997.078077     39.148558        2.672673   \n",
       "std          1.428056      1806.405065     14.212826        3.205080   \n",
       "min          1.000000         0.000000     15.000000       -1.000000   \n",
       "25%          3.000000         0.000000     30.000000       -1.000000   \n",
       "50%          4.000000       128.500000     30.000000        3.000000   \n",
       "75%          6.000000       716.000000     50.000000        6.000000   \n",
       "max          6.000000      9999.000000     70.000000        6.000000   \n",
       "\n",
       "       2nd_Road_Number  Urban_or_Rural_Area          Year  \n",
       "count     52000.000000         51912.000000  52000.000000  \n",
       "mean        384.503058             1.359397   2009.401788  \n",
       "std        1304.989395             0.479868      3.006997  \n",
       "min          -1.000000             1.000000   2005.000000  \n",
       "25%           0.000000             1.000000   2006.000000  \n",
       "50%           0.000000             1.000000   2010.000000  \n",
       "75%           0.000000             2.000000   2012.000000  \n",
       "max        9999.000000             3.000000   2014.000000  "
      ]
     },
     "execution_count": 161,
     "metadata": {},
     "output_type": "execute_result"
    }
   ],
   "source": [
    "df.describe()"
   ]
  },
  {
   "cell_type": "code",
   "execution_count": 162,
   "id": "78e22bc1",
   "metadata": {},
   "outputs": [
    {
     "data": {
      "text/plain": [
       "(52000, 26)"
      ]
     },
     "execution_count": 162,
     "metadata": {},
     "output_type": "execute_result"
    }
   ],
   "source": [
    "df.shape"
   ]
  },
  {
   "cell_type": "code",
   "execution_count": 163,
   "id": "41d1421d",
   "metadata": {},
   "outputs": [
    {
     "data": {
      "text/plain": [
       "Index(['Location_Easting_OSGR', 'Location_Northing_OSGR', 'Longitude',\n",
       "       'Latitude', 'Police_Force', 'Accident_Severity', 'Number_of_Vehicles',\n",
       "       'Number_of_Casualties', 'Date', 'Day_of_Week',\n",
       "       'Local_Authority_(District)', 'Local_Authority_(Highway)',\n",
       "       '1st_Road_Class', '1st_Road_Number', 'Road_Type', 'Speed_limit',\n",
       "       '2nd_Road_Class', '2nd_Road_Number',\n",
       "       'Pedestrian_Crossing-Human_Control',\n",
       "       'Pedestrian_Crossing-Physical_Facilities', 'Light_Conditions',\n",
       "       'Weather_Conditions', 'Road_Surface_Conditions', 'Urban_or_Rural_Area',\n",
       "       'Did_Police_Officer_Attend_Scene_of_Accident', 'Year'],\n",
       "      dtype='object')"
      ]
     },
     "execution_count": 163,
     "metadata": {},
     "output_type": "execute_result"
    }
   ],
   "source": [
    "df.columns"
   ]
  },
  {
   "cell_type": "code",
   "execution_count": 164,
   "id": "28bab313",
   "metadata": {},
   "outputs": [
    {
     "data": {
      "text/plain": [
       "array([6, 1, 4, 7, 3, 5, 2], dtype=int64)"
      ]
     },
     "execution_count": 164,
     "metadata": {},
     "output_type": "execute_result"
    }
   ],
   "source": [
    "df['Day_of_Week'].unique()"
   ]
  },
  {
   "cell_type": "code",
   "execution_count": 165,
   "id": "2a5b7318",
   "metadata": {},
   "outputs": [
    {
     "data": {
      "text/html": [
       "<div>\n",
       "<style scoped>\n",
       "    .dataframe tbody tr th:only-of-type {\n",
       "        vertical-align: middle;\n",
       "    }\n",
       "\n",
       "    .dataframe tbody tr th {\n",
       "        vertical-align: top;\n",
       "    }\n",
       "\n",
       "    .dataframe thead tr th {\n",
       "        text-align: left;\n",
       "    }\n",
       "\n",
       "    .dataframe thead tr:last-of-type th {\n",
       "        text-align: right;\n",
       "    }\n",
       "</style>\n",
       "<table border=\"1\" class=\"dataframe\">\n",
       "  <thead>\n",
       "    <tr>\n",
       "      <th></th>\n",
       "      <th colspan=\"4\" halign=\"left\">Number_of_Vehicles</th>\n",
       "    </tr>\n",
       "    <tr>\n",
       "      <th></th>\n",
       "      <th>max</th>\n",
       "      <th>min</th>\n",
       "      <th>sum</th>\n",
       "      <th>mean</th>\n",
       "    </tr>\n",
       "    <tr>\n",
       "      <th>Day_of_Week</th>\n",
       "      <th></th>\n",
       "      <th></th>\n",
       "      <th></th>\n",
       "      <th></th>\n",
       "    </tr>\n",
       "  </thead>\n",
       "  <tbody>\n",
       "    <tr>\n",
       "      <th>1</th>\n",
       "      <td>10</td>\n",
       "      <td>1</td>\n",
       "      <td>10121</td>\n",
       "      <td>1.795459</td>\n",
       "    </tr>\n",
       "    <tr>\n",
       "      <th>2</th>\n",
       "      <td>7</td>\n",
       "      <td>1</td>\n",
       "      <td>13724</td>\n",
       "      <td>1.844624</td>\n",
       "    </tr>\n",
       "    <tr>\n",
       "      <th>3</th>\n",
       "      <td>11</td>\n",
       "      <td>1</td>\n",
       "      <td>14299</td>\n",
       "      <td>1.851722</td>\n",
       "    </tr>\n",
       "    <tr>\n",
       "      <th>4</th>\n",
       "      <td>10</td>\n",
       "      <td>1</td>\n",
       "      <td>13991</td>\n",
       "      <td>1.853113</td>\n",
       "    </tr>\n",
       "    <tr>\n",
       "      <th>5</th>\n",
       "      <td>12</td>\n",
       "      <td>1</td>\n",
       "      <td>14794</td>\n",
       "      <td>1.853652</td>\n",
       "    </tr>\n",
       "    <tr>\n",
       "      <th>6</th>\n",
       "      <td>34</td>\n",
       "      <td>1</td>\n",
       "      <td>15966</td>\n",
       "      <td>1.839189</td>\n",
       "    </tr>\n",
       "    <tr>\n",
       "      <th>7</th>\n",
       "      <td>8</td>\n",
       "      <td>1</td>\n",
       "      <td>12490</td>\n",
       "      <td>1.787094</td>\n",
       "    </tr>\n",
       "  </tbody>\n",
       "</table>\n",
       "</div>"
      ],
      "text/plain": [
       "            Number_of_Vehicles                     \n",
       "                           max min    sum      mean\n",
       "Day_of_Week                                        \n",
       "1                           10   1  10121  1.795459\n",
       "2                            7   1  13724  1.844624\n",
       "3                           11   1  14299  1.851722\n",
       "4                           10   1  13991  1.853113\n",
       "5                           12   1  14794  1.853652\n",
       "6                           34   1  15966  1.839189\n",
       "7                            8   1  12490  1.787094"
      ]
     },
     "execution_count": 165,
     "metadata": {},
     "output_type": "execute_result"
    }
   ],
   "source": [
    "df.groupby('Day_of_Week').agg({'Number_of_Vehicles' : ['max', 'min', 'sum', 'mean']})"
   ]
  },
  {
   "cell_type": "code",
   "execution_count": 166,
   "id": "4cc79bd5",
   "metadata": {},
   "outputs": [
    {
     "data": {
      "text/html": [
       "<div>\n",
       "<style scoped>\n",
       "    .dataframe tbody tr th:only-of-type {\n",
       "        vertical-align: middle;\n",
       "    }\n",
       "\n",
       "    .dataframe tbody tr th {\n",
       "        vertical-align: top;\n",
       "    }\n",
       "\n",
       "    .dataframe thead tr th {\n",
       "        text-align: left;\n",
       "    }\n",
       "\n",
       "    .dataframe thead tr:last-of-type th {\n",
       "        text-align: right;\n",
       "    }\n",
       "</style>\n",
       "<table border=\"1\" class=\"dataframe\">\n",
       "  <thead>\n",
       "    <tr>\n",
       "      <th></th>\n",
       "      <th colspan=\"4\" halign=\"left\">Number_of_Vehicles</th>\n",
       "      <th>Year</th>\n",
       "    </tr>\n",
       "    <tr>\n",
       "      <th></th>\n",
       "      <th>max</th>\n",
       "      <th>min</th>\n",
       "      <th>sum</th>\n",
       "      <th>mean</th>\n",
       "      <th>mean</th>\n",
       "    </tr>\n",
       "    <tr>\n",
       "      <th>Accident_Severity</th>\n",
       "      <th></th>\n",
       "      <th></th>\n",
       "      <th></th>\n",
       "      <th></th>\n",
       "      <th></th>\n",
       "    </tr>\n",
       "  </thead>\n",
       "  <tbody>\n",
       "    <tr>\n",
       "      <th>1.0</th>\n",
       "      <td>34</td>\n",
       "      <td>1</td>\n",
       "      <td>1186</td>\n",
       "      <td>1.783459</td>\n",
       "      <td>2008.915789</td>\n",
       "    </tr>\n",
       "    <tr>\n",
       "      <th>2.0</th>\n",
       "      <td>8</td>\n",
       "      <td>1</td>\n",
       "      <td>11863</td>\n",
       "      <td>1.674146</td>\n",
       "      <td>2009.560401</td>\n",
       "    </tr>\n",
       "    <tr>\n",
       "      <th>3.0</th>\n",
       "      <td>12</td>\n",
       "      <td>1</td>\n",
       "      <td>81730</td>\n",
       "      <td>1.860587</td>\n",
       "      <td>2009.384137</td>\n",
       "    </tr>\n",
       "  </tbody>\n",
       "</table>\n",
       "</div>"
      ],
      "text/plain": [
       "                  Number_of_Vehicles                              Year\n",
       "                                 max min    sum      mean         mean\n",
       "Accident_Severity                                                     \n",
       "1.0                               34   1   1186  1.783459  2008.915789\n",
       "2.0                                8   1  11863  1.674146  2009.560401\n",
       "3.0                               12   1  81730  1.860587  2009.384137"
      ]
     },
     "execution_count": 166,
     "metadata": {},
     "output_type": "execute_result"
    }
   ],
   "source": [
    "df.groupby('Accident_Severity').agg({'Number_of_Vehicles' : ['max', 'min', 'sum', 'mean'], 'Year': ['mean']})"
   ]
  },
  {
   "cell_type": "code",
   "execution_count": 167,
   "id": "a49012c4",
   "metadata": {},
   "outputs": [
    {
     "data": {
      "text/plain": [
       "Location_Easting_OSGR                             0\n",
       "Location_Northing_OSGR                            0\n",
       "Longitude                                         0\n",
       "Latitude                                          0\n",
       "Police_Force                                      0\n",
       "Accident_Severity                               322\n",
       "Number_of_Vehicles                                0\n",
       "Number_of_Casualties                           1041\n",
       "Date                                              0\n",
       "Day_of_Week                                       0\n",
       "Local_Authority_(District)                        0\n",
       "Local_Authority_(Highway)                         0\n",
       "1st_Road_Class                                    0\n",
       "1st_Road_Number                                   0\n",
       "Road_Type                                         0\n",
       "Speed_limit                                       0\n",
       "2nd_Road_Class                                    0\n",
       "2nd_Road_Number                                   0\n",
       "Pedestrian_Crossing-Human_Control                 0\n",
       "Pedestrian_Crossing-Physical_Facilities           0\n",
       "Light_Conditions                                544\n",
       "Weather_Conditions                                0\n",
       "Road_Surface_Conditions                           0\n",
       "Urban_or_Rural_Area                              88\n",
       "Did_Police_Officer_Attend_Scene_of_Accident       0\n",
       "Year                                              0\n",
       "dtype: int64"
      ]
     },
     "execution_count": 167,
     "metadata": {},
     "output_type": "execute_result"
    }
   ],
   "source": [
    "df.isna().sum()"
   ]
  },
  {
   "cell_type": "code",
   "execution_count": 168,
   "id": "17c0c9a2",
   "metadata": {},
   "outputs": [
    {
     "data": {
      "text/plain": [
       "array([ 1.,  2.,  3., nan,  4.,  9.,  7.,  8.,  5.,  6., 42., 14., 12.,\n",
       "       10., 13., 24., 51., 18., 11., 23.])"
      ]
     },
     "execution_count": 168,
     "metadata": {},
     "output_type": "execute_result"
    }
   ],
   "source": [
    "df['Number_of_Casualties'].unique()"
   ]
  },
  {
   "cell_type": "code",
   "execution_count": 169,
   "id": "2b8c2ead",
   "metadata": {},
   "outputs": [
    {
     "data": {
      "text/plain": [
       "array(['Darkeness: No street lighting',\n",
       "       'Darkness: Street lights present and lit',\n",
       "       'Daylight: Street light present', nan,\n",
       "       'Darkness: Street lighting unknown',\n",
       "       'Darkness: Street lights present but unlit'], dtype=object)"
      ]
     },
     "execution_count": 169,
     "metadata": {},
     "output_type": "execute_result"
    }
   ],
   "source": [
    "df['Light_Conditions'].unique()"
   ]
  },
  {
   "cell_type": "code",
   "execution_count": 170,
   "id": "2b43df5f",
   "metadata": {},
   "outputs": [
    {
     "data": {
      "text/plain": [
       "(50029, 26)"
      ]
     },
     "execution_count": 170,
     "metadata": {},
     "output_type": "execute_result"
    }
   ],
   "source": [
    "df.dropna(axis=0, inplace=True)\n",
    "df.shape"
   ]
  },
  {
   "cell_type": "code",
   "execution_count": 171,
   "id": "4159fb2c",
   "metadata": {},
   "outputs": [
    {
     "data": {
      "text/plain": [
       "43"
      ]
     },
     "execution_count": 171,
     "metadata": {},
     "output_type": "execute_result"
    }
   ],
   "source": [
    "df.duplicated().sum()"
   ]
  },
  {
   "cell_type": "code",
   "execution_count": 172,
   "id": "57ea45fa",
   "metadata": {},
   "outputs": [
    {
     "data": {
      "text/plain": [
       "(49986, 26)"
      ]
     },
     "execution_count": 172,
     "metadata": {},
     "output_type": "execute_result"
    }
   ],
   "source": [
    "df.drop_duplicates(inplace=True)\n",
    "df.shape"
   ]
  },
  {
   "cell_type": "markdown",
   "id": "b0d002cd",
   "metadata": {},
   "source": [
    "## Data Preprocessing\n",
    "Do what you think you need such as:\n",
    "* Remove the outliers\n",
    "* Impute missing data\n",
    "* Scale the data\n",
    "* Reduce dimentions using PCA\n",
    "* Implement One-Hot Encoding for nominal categorical variables."
   ]
  },
  {
   "cell_type": "code",
   "execution_count": 173,
   "id": "ca5bbcf9",
   "metadata": {},
   "outputs": [
    {
     "data": {
      "text/plain": [
       "Location_Easting_OSGR                          float64\n",
       "Location_Northing_OSGR                         float64\n",
       "Longitude                                      float64\n",
       "Latitude                                       float64\n",
       "Police_Force                                     int64\n",
       "Accident_Severity                              float64\n",
       "Number_of_Vehicles                               int64\n",
       "Number_of_Casualties                           float64\n",
       "Date                                            object\n",
       "Day_of_Week                                      int64\n",
       "Local_Authority_(District)                       int64\n",
       "Local_Authority_(Highway)                       object\n",
       "1st_Road_Class                                   int64\n",
       "1st_Road_Number                                  int64\n",
       "Road_Type                                       object\n",
       "Speed_limit                                      int64\n",
       "2nd_Road_Class                                   int64\n",
       "2nd_Road_Number                                  int64\n",
       "Pedestrian_Crossing-Human_Control               object\n",
       "Pedestrian_Crossing-Physical_Facilities         object\n",
       "Light_Conditions                                object\n",
       "Weather_Conditions                              object\n",
       "Road_Surface_Conditions                         object\n",
       "Urban_or_Rural_Area                            float64\n",
       "Did_Police_Officer_Attend_Scene_of_Accident     object\n",
       "Year                                             int64\n",
       "dtype: object"
      ]
     },
     "execution_count": 173,
     "metadata": {},
     "output_type": "execute_result"
    }
   ],
   "source": [
    "df.dtypes"
   ]
  },
  {
   "cell_type": "code",
   "execution_count": 174,
   "id": "c280dcfa",
   "metadata": {},
   "outputs": [
    {
     "data": {
      "text/plain": [
       "<bound method Series.unique of 0        664480.0\n",
       "1        696030.0\n",
       "2        483590.0\n",
       "3        750030.0\n",
       "4        736578.0\n",
       "           ...   \n",
       "51995    794505.0\n",
       "51996    583740.0\n",
       "51997    692760.0\n",
       "51998    768720.0\n",
       "51999    640140.0\n",
       "Name: Location, Length: 49986, dtype: float64>"
      ]
     },
     "execution_count": 174,
     "metadata": {},
     "output_type": "execute_result"
    }
   ],
   "source": [
    "df['Location'] = df['Location_Easting_OSGR'] + df['Location_Northing_OSGR']\n",
    "df['Location'].unique"
   ]
  },
  {
   "cell_type": "code",
   "execution_count": 175,
   "id": "ff594268",
   "metadata": {},
   "outputs": [
    {
     "data": {
      "text/plain": [
       "(Police_Force                  int64\n",
       " Number_of_Vehicles            int64\n",
       " Day_of_Week                   int64\n",
       " Local_Authority_(District)    int64\n",
       " 1st_Road_Class                int64\n",
       " 1st_Road_Number               int64\n",
       " Speed_limit                   int64\n",
       " 2nd_Road_Class                int64\n",
       " 2nd_Road_Number               int64\n",
       " Year                          int64\n",
       " dtype: object,\n",
       " Date                                           object\n",
       " Local_Authority_(Highway)                      object\n",
       " Road_Type                                      object\n",
       " Pedestrian_Crossing-Human_Control              object\n",
       " Pedestrian_Crossing-Physical_Facilities        object\n",
       " Light_Conditions                               object\n",
       " Weather_Conditions                             object\n",
       " Road_Surface_Conditions                        object\n",
       " Did_Police_Officer_Attend_Scene_of_Accident    object\n",
       " dtype: object)"
      ]
     },
     "execution_count": 175,
     "metadata": {},
     "output_type": "execute_result"
    }
   ],
   "source": [
    "num_col = df.select_dtypes('int64', 'float')\n",
    "cat_col = df.select_dtypes('object')\n",
    "num_col.dtypes, cat_col.dtypes"
   ]
  },
  {
   "cell_type": "code",
   "execution_count": 176,
   "id": "8246a68c",
   "metadata": {},
   "outputs": [
    {
     "data": {
      "text/html": [
       "<div>\n",
       "<style scoped>\n",
       "    .dataframe tbody tr th:only-of-type {\n",
       "        vertical-align: middle;\n",
       "    }\n",
       "\n",
       "    .dataframe tbody tr th {\n",
       "        vertical-align: top;\n",
       "    }\n",
       "\n",
       "    .dataframe thead th {\n",
       "        text-align: right;\n",
       "    }\n",
       "</style>\n",
       "<table border=\"1\" class=\"dataframe\">\n",
       "  <thead>\n",
       "    <tr style=\"text-align: right;\">\n",
       "      <th></th>\n",
       "      <th>Location_Easting_OSGR</th>\n",
       "      <th>Location_Northing_OSGR</th>\n",
       "      <th>Longitude</th>\n",
       "      <th>Latitude</th>\n",
       "      <th>Police_Force</th>\n",
       "      <th>Accident_Severity</th>\n",
       "      <th>Number_of_Vehicles</th>\n",
       "      <th>Number_of_Casualties</th>\n",
       "      <th>Date</th>\n",
       "      <th>Day_of_Week</th>\n",
       "      <th>...</th>\n",
       "      <th>2nd_Road_Number</th>\n",
       "      <th>Pedestrian_Crossing-Human_Control</th>\n",
       "      <th>Pedestrian_Crossing-Physical_Facilities</th>\n",
       "      <th>Light_Conditions</th>\n",
       "      <th>Weather_Conditions</th>\n",
       "      <th>Road_Surface_Conditions</th>\n",
       "      <th>Urban_or_Rural_Area</th>\n",
       "      <th>Did_Police_Officer_Attend_Scene_of_Accident</th>\n",
       "      <th>Year</th>\n",
       "      <th>Location</th>\n",
       "    </tr>\n",
       "  </thead>\n",
       "  <tbody>\n",
       "    <tr>\n",
       "      <th>0</th>\n",
       "      <td>26999</td>\n",
       "      <td>1948</td>\n",
       "      <td>45167</td>\n",
       "      <td>2199</td>\n",
       "      <td>32</td>\n",
       "      <td>2</td>\n",
       "      <td>0</td>\n",
       "      <td>0</td>\n",
       "      <td>2901</td>\n",
       "      <td>5</td>\n",
       "      <td>...</td>\n",
       "      <td>1</td>\n",
       "      <td>2</td>\n",
       "      <td>2</td>\n",
       "      <td>0</td>\n",
       "      <td>4</td>\n",
       "      <td>1</td>\n",
       "      <td>1</td>\n",
       "      <td>1</td>\n",
       "      <td>3</td>\n",
       "      <td>8890</td>\n",
       "    </tr>\n",
       "    <tr>\n",
       "      <th>1</th>\n",
       "      <td>22310</td>\n",
       "      <td>8464</td>\n",
       "      <td>33467</td>\n",
       "      <td>16650</td>\n",
       "      <td>0</td>\n",
       "      <td>2</td>\n",
       "      <td>1</td>\n",
       "      <td>0</td>\n",
       "      <td>1057</td>\n",
       "      <td>0</td>\n",
       "      <td>...</td>\n",
       "      <td>1</td>\n",
       "      <td>2</td>\n",
       "      <td>2</td>\n",
       "      <td>2</td>\n",
       "      <td>1</td>\n",
       "      <td>0</td>\n",
       "      <td>0</td>\n",
       "      <td>1</td>\n",
       "      <td>4</td>\n",
       "      <td>11488</td>\n",
       "    </tr>\n",
       "    <tr>\n",
       "      <th>2</th>\n",
       "      <td>4175</td>\n",
       "      <td>6415</td>\n",
       "      <td>5108</td>\n",
       "      <td>9246</td>\n",
       "      <td>41</td>\n",
       "      <td>2</td>\n",
       "      <td>1</td>\n",
       "      <td>0</td>\n",
       "      <td>1476</td>\n",
       "      <td>3</td>\n",
       "      <td>...</td>\n",
       "      <td>1713</td>\n",
       "      <td>2</td>\n",
       "      <td>2</td>\n",
       "      <td>4</td>\n",
       "      <td>1</td>\n",
       "      <td>0</td>\n",
       "      <td>0</td>\n",
       "      <td>1</td>\n",
       "      <td>0</td>\n",
       "      <td>2327</td>\n",
       "    </tr>\n",
       "    <tr>\n",
       "      <th>3</th>\n",
       "      <td>6214</td>\n",
       "      <td>22848</td>\n",
       "      <td>8155</td>\n",
       "      <td>38074</td>\n",
       "      <td>2</td>\n",
       "      <td>2</td>\n",
       "      <td>0</td>\n",
       "      <td>1</td>\n",
       "      <td>1901</td>\n",
       "      <td>6</td>\n",
       "      <td>...</td>\n",
       "      <td>1</td>\n",
       "      <td>2</td>\n",
       "      <td>2</td>\n",
       "      <td>4</td>\n",
       "      <td>5</td>\n",
       "      <td>5</td>\n",
       "      <td>0</td>\n",
       "      <td>1</td>\n",
       "      <td>2</td>\n",
       "      <td>16885</td>\n",
       "    </tr>\n",
       "    <tr>\n",
       "      <th>4</th>\n",
       "      <td>10207</td>\n",
       "      <td>18409</td>\n",
       "      <td>14149</td>\n",
       "      <td>31641</td>\n",
       "      <td>14</td>\n",
       "      <td>2</td>\n",
       "      <td>1</td>\n",
       "      <td>1</td>\n",
       "      <td>610</td>\n",
       "      <td>2</td>\n",
       "      <td>...</td>\n",
       "      <td>1</td>\n",
       "      <td>2</td>\n",
       "      <td>2</td>\n",
       "      <td>4</td>\n",
       "      <td>1</td>\n",
       "      <td>0</td>\n",
       "      <td>0</td>\n",
       "      <td>1</td>\n",
       "      <td>7</td>\n",
       "      <td>15734</td>\n",
       "    </tr>\n",
       "  </tbody>\n",
       "</table>\n",
       "<p>5 rows × 27 columns</p>\n",
       "</div>"
      ],
      "text/plain": [
       "   Location_Easting_OSGR  Location_Northing_OSGR  Longitude  Latitude  \\\n",
       "0                  26999                    1948      45167      2199   \n",
       "1                  22310                    8464      33467     16650   \n",
       "2                   4175                    6415       5108      9246   \n",
       "3                   6214                   22848       8155     38074   \n",
       "4                  10207                   18409      14149     31641   \n",
       "\n",
       "   Police_Force  Accident_Severity  Number_of_Vehicles  Number_of_Casualties  \\\n",
       "0            32                  2                   0                     0   \n",
       "1             0                  2                   1                     0   \n",
       "2            41                  2                   1                     0   \n",
       "3             2                  2                   0                     1   \n",
       "4            14                  2                   1                     1   \n",
       "\n",
       "   Date  Day_of_Week  ...  2nd_Road_Number  Pedestrian_Crossing-Human_Control  \\\n",
       "0  2901            5  ...                1                                  2   \n",
       "1  1057            0  ...                1                                  2   \n",
       "2  1476            3  ...             1713                                  2   \n",
       "3  1901            6  ...                1                                  2   \n",
       "4   610            2  ...                1                                  2   \n",
       "\n",
       "   Pedestrian_Crossing-Physical_Facilities  Light_Conditions  \\\n",
       "0                                        2                 0   \n",
       "1                                        2                 2   \n",
       "2                                        2                 4   \n",
       "3                                        2                 4   \n",
       "4                                        2                 4   \n",
       "\n",
       "   Weather_Conditions  Road_Surface_Conditions  Urban_or_Rural_Area  \\\n",
       "0                   4                        1                    1   \n",
       "1                   1                        0                    0   \n",
       "2                   1                        0                    0   \n",
       "3                   5                        5                    0   \n",
       "4                   1                        0                    0   \n",
       "\n",
       "   Did_Police_Officer_Attend_Scene_of_Accident  Year  Location  \n",
       "0                                            1     3      8890  \n",
       "1                                            1     4     11488  \n",
       "2                                            1     0      2327  \n",
       "3                                            1     2     16885  \n",
       "4                                            1     7     15734  \n",
       "\n",
       "[5 rows x 27 columns]"
      ]
     },
     "execution_count": 176,
     "metadata": {},
     "output_type": "execute_result"
    }
   ],
   "source": [
    "le = LabelEncoder()\n",
    "\n",
    "edf = df.copy()\n",
    "\n",
    "for col in df:\n",
    "    edf[col] = le.fit_transform(edf[col])\n",
    "\n",
    "edf.head()"
   ]
  },
  {
   "cell_type": "code",
   "execution_count": 177,
   "id": "61a6ed85",
   "metadata": {},
   "outputs": [
    {
     "data": {
      "text/plain": [
       "Location_Easting_OSGR                          int64\n",
       "Location_Northing_OSGR                         int64\n",
       "Longitude                                      int64\n",
       "Latitude                                       int64\n",
       "Police_Force                                   int64\n",
       "Accident_Severity                              int64\n",
       "Number_of_Vehicles                             int64\n",
       "Number_of_Casualties                           int64\n",
       "Date                                           int32\n",
       "Day_of_Week                                    int64\n",
       "Local_Authority_(District)                     int64\n",
       "Local_Authority_(Highway)                      int32\n",
       "1st_Road_Class                                 int64\n",
       "1st_Road_Number                                int64\n",
       "Road_Type                                      int32\n",
       "Speed_limit                                    int64\n",
       "2nd_Road_Class                                 int64\n",
       "2nd_Road_Number                                int64\n",
       "Pedestrian_Crossing-Human_Control              int32\n",
       "Pedestrian_Crossing-Physical_Facilities        int32\n",
       "Light_Conditions                               int32\n",
       "Weather_Conditions                             int32\n",
       "Road_Surface_Conditions                        int32\n",
       "Urban_or_Rural_Area                            int64\n",
       "Did_Police_Officer_Attend_Scene_of_Accident    int32\n",
       "Year                                           int64\n",
       "Location                                       int64\n",
       "dtype: object"
      ]
     },
     "execution_count": 177,
     "metadata": {},
     "output_type": "execute_result"
    }
   ],
   "source": [
    "edf.dtypes"
   ]
  },
  {
   "cell_type": "code",
   "execution_count": 178,
   "id": "472df170",
   "metadata": {},
   "outputs": [
    {
     "data": {
      "text/plain": [
       "(49986, 27)"
      ]
     },
     "execution_count": 178,
     "metadata": {},
     "output_type": "execute_result"
    }
   ],
   "source": [
    "df.shape"
   ]
  },
  {
   "cell_type": "code",
   "execution_count": 179,
   "id": "f3e83013",
   "metadata": {},
   "outputs": [],
   "source": [
    "scaler = StandardScaler()\n",
    "df.head()\n",
    "sdf = edf.copy()"
   ]
  },
  {
   "cell_type": "code",
   "execution_count": 180,
   "id": "a331af61",
   "metadata": {},
   "outputs": [
    {
     "data": {
      "text/plain": [
       "array([[ 1.33677699, -1.44854068,  1.45872863, ...,  0.48355577,\n",
       "        -0.29884003, -0.84814951],\n",
       "       [ 0.77018243, -0.69758251,  0.63065702, ...,  0.48355577,\n",
       "         0.08688099, -0.54363579],\n",
       "       [-1.42115738, -0.93372635, -1.37646118, ...,  0.48355577,\n",
       "        -1.45600309, -1.61740416],\n",
       "       ...,\n",
       "       [ 1.17074992, -1.11420525,  1.29134492, ...,  0.48355577,\n",
       "         0.472602  , -0.58278421],\n",
       "       [-0.07094889,  0.325016  , -0.10738835, ...,  0.48355577,\n",
       "         0.472602  ,  0.2672287 ],\n",
       "       [ 0.21567135, -0.72120842,  0.15844387, ...,  0.48355577,\n",
       "         0.08688099, -1.01130698]])"
      ]
     },
     "execution_count": 180,
     "metadata": {},
     "output_type": "execute_result"
    }
   ],
   "source": [
    "scaler.fit_transform(sdf)"
   ]
  },
  {
   "cell_type": "markdown",
   "id": "d3f6a968",
   "metadata": {},
   "source": [
    "## Feature Selection\n",
    "Select relevant features for clustering. Explain your choice of features.\n"
   ]
  },
  {
   "cell_type": "code",
   "execution_count": 181,
   "id": "a90a4a3f",
   "metadata": {},
   "outputs": [
    {
     "data": {
      "text/plain": [
       "((49986, 26), (49986,))"
      ]
     },
     "execution_count": 181,
     "metadata": {},
     "output_type": "execute_result"
    }
   ],
   "source": [
    "X = sdf.drop(columns=['Location'])\n",
    "y = sdf['Location']\n",
    "\n",
    "X.shape, y.shape"
   ]
  },
  {
   "cell_type": "code",
   "execution_count": 182,
   "id": "7a2b7c47",
   "metadata": {},
   "outputs": [
    {
     "data": {
      "text/plain": [
       "array([[26999,  1948, 45167, ...,     4,     1,     3],\n",
       "       [22310,  8464, 33467, ...,     1,     0,     4],\n",
       "       [ 4175,  6415,  5108, ...,     1,     0,     0],\n",
       "       ...,\n",
       "       [25625,  4849, 42802, ...,     5,     5,     5],\n",
       "       [15349, 17337, 23039, ...,     5,     5,     5],\n",
       "       [17721,  8259, 26795, ...,     1,     0,     4]], dtype=int64)"
      ]
     },
     "execution_count": 182,
     "metadata": {},
     "output_type": "execute_result"
    }
   ],
   "source": [
    "from sklearn.feature_selection import VarianceThreshold\n",
    "\n",
    "sel = VarianceThreshold(threshold= 0.7)\n",
    "sel.fit_transform(X)\n"
   ]
  },
  {
   "cell_type": "code",
   "execution_count": 183,
   "id": "fb5072ac",
   "metadata": {},
   "outputs": [
    {
     "data": {
      "text/plain": [
       "array(['Location_Easting_OSGR', 'Location_Northing_OSGR', 'Longitude',\n",
       "       'Latitude', 'Police_Force', 'Date', 'Day_of_Week',\n",
       "       'Local_Authority_(District)', 'Local_Authority_(Highway)',\n",
       "       '1st_Road_Class', '1st_Road_Number', 'Road_Type', 'Speed_limit',\n",
       "       '2nd_Road_Class', '2nd_Road_Number', 'Light_Conditions',\n",
       "       'Weather_Conditions', 'Road_Surface_Conditions', 'Year'],\n",
       "      dtype=object)"
      ]
     },
     "execution_count": 183,
     "metadata": {},
     "output_type": "execute_result"
    }
   ],
   "source": [
    "sel.get_feature_names_out()"
   ]
  },
  {
   "cell_type": "code",
   "execution_count": 184,
   "id": "5dce8f58",
   "metadata": {},
   "outputs": [
    {
     "data": {
      "text/plain": [
       "(49986, 26)"
      ]
     },
     "execution_count": 184,
     "metadata": {},
     "output_type": "execute_result"
    }
   ],
   "source": [
    "X.shape"
   ]
  },
  {
   "cell_type": "code",
   "execution_count": 185,
   "id": "5980f502",
   "metadata": {},
   "outputs": [],
   "source": [
    "X.drop(columns=['Accident_Severity', 'Number_of_Vehicles', 'Number_of_Casualties','Pedestrian_Crossing-Human_Control',\n",
    "       'Pedestrian_Crossing-Physical_Facilities', 'Urban_or_Rural_Area',\n",
    "       'Did_Police_Officer_Attend_Scene_of_Accident'], axis=1, inplace=True)"
   ]
  },
  {
   "cell_type": "code",
   "execution_count": 186,
   "id": "1ec1faaa",
   "metadata": {},
   "outputs": [
    {
     "data": {
      "text/plain": [
       "(49986, 19)"
      ]
     },
     "execution_count": 186,
     "metadata": {},
     "output_type": "execute_result"
    }
   ],
   "source": [
    "X.shape"
   ]
  },
  {
   "cell_type": "markdown",
   "id": "d0379d4e",
   "metadata": {},
   "source": [
    "## Data Visualization\n",
    "Visualize the data using appropriate plots to gain insights into the dataset. Using the following:\n",
    "- Scatter plot of accidents based on Longitude and Latitude."
   ]
  },
  {
   "cell_type": "code",
   "execution_count": null,
   "id": "660247d7",
   "metadata": {},
   "outputs": [],
   "source": []
  },
  {
   "cell_type": "markdown",
   "id": "4d2f9b1d",
   "metadata": {},
   "source": [
    "## Clustering\n",
    "Apply K-Means clustering. Determine the optimal number of clusters and justify your choice.\n",
    "* Find the `n_clusters` parameter using the elbow method.\n",
    "* Train the model."
   ]
  },
  {
   "cell_type": "code",
   "execution_count": 188,
   "id": "2d08303f",
   "metadata": {},
   "outputs": [],
   "source": [
    "from  sklearn.cluster import KMeans\n",
    "from scipy.spatial.distance import cdist\n",
    "\n",
    "distortions = []\n",
    "inertias = []\n",
    "mapping1 = {}\n",
    "mapping2 = {}\n",
    "K = range(1, 10)\n",
    " \n",
    "for k in K:\n",
    "    kmeanModel = KMeans(n_clusters=k).fit(X)\n",
    "    kmeanModel.fit(X)\n",
    " \n",
    "    distortions.append(sum(np.min(cdist(X, kmeanModel.cluster_centers_,\n",
    "                                        'euclidean'), axis=1)) / X.shape[0])\n",
    "    inertias.append(kmeanModel.inertia_)\n",
    " \n",
    "    mapping1[k] = sum(np.min(cdist(X, kmeanModel.cluster_centers_,\n",
    "                                   'euclidean'), axis=1)) / X.shape[0]\n",
    "    mapping2[k] = kmeanModel.inertia_\n"
   ]
  },
  {
   "cell_type": "code",
   "execution_count": 189,
   "id": "84c1594d",
   "metadata": {},
   "outputs": [
    {
     "data": {
      "image/png": "[encoded data removed]",
      "text/plain": [
       "<Figure size 640x480 with 1 Axes>"
      ]
     },
     "metadata": {},
     "output_type": "display_data"
    }
   ],
   "source": [
    "plt.plot(K, distortions, 'bx-')\n",
    "plt.xlabel('Values of K')\n",
    "plt.ylabel('Distortion')\n",
    "plt.title('The Elbow Method using Distortion')\n",
    "plt.show()\n"
   ]
  },
  {
   "cell_type": "markdown",
   "id": "70fb3a2a",
   "metadata": {},
   "source": [
    "## Evaluation\n",
    "Evaluate the clustering result using appropriate metrics.\n"
   ]
  },
  {
   "cell_type": "code",
   "execution_count": 190,
   "id": "70c261ca",
   "metadata": {},
   "outputs": [
    {
     "data": {
      "text/plain": [
       "array([1, 1, 0, ..., 1, 2, 1])"
      ]
     },
     "execution_count": 190,
     "metadata": {},
     "output_type": "execute_result"
    }
   ],
   "source": [
    "KModel = KMeans(n_clusters=3, random_state=42)\n",
    "KModel.fit(X)\n",
    "KModel.labels_"
   ]
  },
  {
   "cell_type": "markdown",
   "id": "061e005c",
   "metadata": {},
   "source": [
    "## Plot the data points with their predicted cluster center"
   ]
  },
  {
   "cell_type": "code",
   "execution_count": 193,
   "id": "10cc0ed5",
   "metadata": {},
   "outputs": [
    {
     "ename": "ValueError",
     "evalue": "x and y must be the same size",
     "output_type": "error",
     "traceback": [
      "\u001b[1;31m---------------------------------------------------------------------------\u001b[0m",
      "\u001b[1;31mValueError\u001b[0m                                Traceback (most recent call last)",
      "Cell \u001b[1;32mIn[193], line 1\u001b[0m\n\u001b[1;32m----> 1\u001b[0m \u001b[43mplt\u001b[49m\u001b[38;5;241;43m.\u001b[39;49m\u001b[43mscatter\u001b[49m\u001b[43m(\u001b[49m\u001b[43mX\u001b[49m\u001b[43m,\u001b[49m\u001b[43m \u001b[49m\u001b[43my\u001b[49m\u001b[43m,\u001b[49m\u001b[43m \u001b[49m\u001b[43mc\u001b[49m\u001b[38;5;241;43m=\u001b[39;49m\u001b[43mKModel\u001b[49m\u001b[38;5;241;43m.\u001b[39;49m\u001b[43mlabels_\u001b[49m\u001b[43m)\u001b[49m\n\u001b[0;32m      2\u001b[0m \u001b[38;5;66;03m#plt.legend(scatter.legend_elements()[0], iris.target_names)\u001b[39;00m\n\u001b[0;32m      3\u001b[0m plt\u001b[38;5;241m.\u001b[39mshow\n",
      "File \u001b[1;32m~\\AppData\\Local\\Packages\\PythonSoftwareFoundation.Python.3.11_qbz5n2kfra8p0\\LocalCache\\local-packages\\Python311\\site-packages\\matplotlib\\pyplot.py:3903\u001b[0m, in \u001b[0;36mscatter\u001b[1;34m(x, y, s, c, marker, cmap, norm, vmin, vmax, alpha, linewidths, edgecolors, plotnonfinite, data, **kwargs)\u001b[0m\n\u001b[0;32m   3884\u001b[0m \u001b[38;5;129m@_copy_docstring_and_deprecators\u001b[39m(Axes\u001b[38;5;241m.\u001b[39mscatter)\n\u001b[0;32m   3885\u001b[0m \u001b[38;5;28;01mdef\u001b[39;00m \u001b[38;5;21mscatter\u001b[39m(\n\u001b[0;32m   3886\u001b[0m     x: \u001b[38;5;28mfloat\u001b[39m \u001b[38;5;241m|\u001b[39m ArrayLike,\n\u001b[1;32m   (...)\u001b[0m\n\u001b[0;32m   3901\u001b[0m     \u001b[38;5;241m*\u001b[39m\u001b[38;5;241m*\u001b[39mkwargs,\n\u001b[0;32m   3902\u001b[0m ) \u001b[38;5;241m-\u001b[39m\u001b[38;5;241m>\u001b[39m PathCollection:\n\u001b[1;32m-> 3903\u001b[0m     __ret \u001b[38;5;241m=\u001b[39m \u001b[43mgca\u001b[49m\u001b[43m(\u001b[49m\u001b[43m)\u001b[49m\u001b[38;5;241;43m.\u001b[39;49m\u001b[43mscatter\u001b[49m\u001b[43m(\u001b[49m\n\u001b[0;32m   3904\u001b[0m \u001b[43m        \u001b[49m\u001b[43mx\u001b[49m\u001b[43m,\u001b[49m\n\u001b[0;32m   3905\u001b[0m \u001b[43m        \u001b[49m\u001b[43my\u001b[49m\u001b[43m,\u001b[49m\n\u001b[0;32m   3906\u001b[0m \u001b[43m        \u001b[49m\u001b[43ms\u001b[49m\u001b[38;5;241;43m=\u001b[39;49m\u001b[43ms\u001b[49m\u001b[43m,\u001b[49m\n\u001b[0;32m   3907\u001b[0m \u001b[43m        \u001b[49m\u001b[43mc\u001b[49m\u001b[38;5;241;43m=\u001b[39;49m\u001b[43mc\u001b[49m\u001b[43m,\u001b[49m\n\u001b[0;32m   3908\u001b[0m \u001b[43m        \u001b[49m\u001b[43mmarker\u001b[49m\u001b[38;5;241;43m=\u001b[39;49m\u001b[43mmarker\u001b[49m\u001b[43m,\u001b[49m\n\u001b[0;32m   3909\u001b[0m \u001b[43m        \u001b[49m\u001b[43mcmap\u001b[49m\u001b[38;5;241;43m=\u001b[39;49m\u001b[43mcmap\u001b[49m\u001b[43m,\u001b[49m\n\u001b[0;32m   3910\u001b[0m \u001b[43m        \u001b[49m\u001b[43mnorm\u001b[49m\u001b[38;5;241;43m=\u001b[39;49m\u001b[43mnorm\u001b[49m\u001b[43m,\u001b[49m\n\u001b[0;32m   3911\u001b[0m \u001b[43m        \u001b[49m\u001b[43mvmin\u001b[49m\u001b[38;5;241;43m=\u001b[39;49m\u001b[43mvmin\u001b[49m\u001b[43m,\u001b[49m\n\u001b[0;32m   3912\u001b[0m \u001b[43m        \u001b[49m\u001b[43mvmax\u001b[49m\u001b[38;5;241;43m=\u001b[39;49m\u001b[43mvmax\u001b[49m\u001b[43m,\u001b[49m\n\u001b[0;32m   3913\u001b[0m \u001b[43m        \u001b[49m\u001b[43malpha\u001b[49m\u001b[38;5;241;43m=\u001b[39;49m\u001b[43malpha\u001b[49m\u001b[43m,\u001b[49m\n\u001b[0;32m   3914\u001b[0m \u001b[43m        \u001b[49m\u001b[43mlinewidths\u001b[49m\u001b[38;5;241;43m=\u001b[39;49m\u001b[43mlinewidths\u001b[49m\u001b[43m,\u001b[49m\n\u001b[0;32m   3915\u001b[0m \u001b[43m        \u001b[49m\u001b[43medgecolors\u001b[49m\u001b[38;5;241;43m=\u001b[39;49m\u001b[43medgecolors\u001b[49m\u001b[43m,\u001b[49m\n\u001b[0;32m   3916\u001b[0m \u001b[43m        \u001b[49m\u001b[43mplotnonfinite\u001b[49m\u001b[38;5;241;43m=\u001b[39;49m\u001b[43mplotnonfinite\u001b[49m\u001b[43m,\u001b[49m\n\u001b[0;32m   3917\u001b[0m \u001b[43m        \u001b[49m\u001b[38;5;241;43m*\u001b[39;49m\u001b[38;5;241;43m*\u001b[39;49m\u001b[43m(\u001b[49m\u001b[43m{\u001b[49m\u001b[38;5;124;43m\"\u001b[39;49m\u001b[38;5;124;43mdata\u001b[39;49m\u001b[38;5;124;43m\"\u001b[39;49m\u001b[43m:\u001b[49m\u001b[43m \u001b[49m\u001b[43mdata\u001b[49m\u001b[43m}\u001b[49m\u001b[43m \u001b[49m\u001b[38;5;28;43;01mif\u001b[39;49;00m\u001b[43m \u001b[49m\u001b[43mdata\u001b[49m\u001b[43m \u001b[49m\u001b[38;5;129;43;01mis\u001b[39;49;00m\u001b[43m \u001b[49m\u001b[38;5;129;43;01mnot\u001b[39;49;00m\u001b[43m \u001b[49m\u001b[38;5;28;43;01mNone\u001b[39;49;00m\u001b[43m \u001b[49m\u001b[38;5;28;43;01melse\u001b[39;49;00m\u001b[43m \u001b[49m\u001b[43m{\u001b[49m\u001b[43m}\u001b[49m\u001b[43m)\u001b[49m\u001b[43m,\u001b[49m\n\u001b[0;32m   3918\u001b[0m \u001b[43m        \u001b[49m\u001b[38;5;241;43m*\u001b[39;49m\u001b[38;5;241;43m*\u001b[39;49m\u001b[43mkwargs\u001b[49m\u001b[43m,\u001b[49m\n\u001b[0;32m   3919\u001b[0m \u001b[43m    \u001b[49m\u001b[43m)\u001b[49m\n\u001b[0;32m   3920\u001b[0m     sci(__ret)\n\u001b[0;32m   3921\u001b[0m     \u001b[38;5;28;01mreturn\u001b[39;00m __ret\n",
      "File \u001b[1;32m~\\AppData\\Local\\Packages\\PythonSoftwareFoundation.Python.3.11_qbz5n2kfra8p0\\LocalCache\\local-packages\\Python311\\site-packages\\matplotlib\\__init__.py:1486\u001b[0m, in \u001b[0;36m_preprocess_data.<locals>.inner\u001b[1;34m(ax, data, *args, **kwargs)\u001b[0m\n\u001b[0;32m   1483\u001b[0m \u001b[38;5;129m@functools\u001b[39m\u001b[38;5;241m.\u001b[39mwraps(func)\n\u001b[0;32m   1484\u001b[0m \u001b[38;5;28;01mdef\u001b[39;00m \u001b[38;5;21minner\u001b[39m(ax, \u001b[38;5;241m*\u001b[39margs, data\u001b[38;5;241m=\u001b[39m\u001b[38;5;28;01mNone\u001b[39;00m, \u001b[38;5;241m*\u001b[39m\u001b[38;5;241m*\u001b[39mkwargs):\n\u001b[0;32m   1485\u001b[0m     \u001b[38;5;28;01mif\u001b[39;00m data \u001b[38;5;129;01mis\u001b[39;00m \u001b[38;5;28;01mNone\u001b[39;00m:\n\u001b[1;32m-> 1486\u001b[0m         \u001b[38;5;28;01mreturn\u001b[39;00m \u001b[43mfunc\u001b[49m\u001b[43m(\u001b[49m\n\u001b[0;32m   1487\u001b[0m \u001b[43m            \u001b[49m\u001b[43max\u001b[49m\u001b[43m,\u001b[49m\n\u001b[0;32m   1488\u001b[0m \u001b[43m            \u001b[49m\u001b[38;5;241;43m*\u001b[39;49m\u001b[38;5;28;43mmap\u001b[39;49m\u001b[43m(\u001b[49m\u001b[43msanitize_sequence\u001b[49m\u001b[43m,\u001b[49m\u001b[43m \u001b[49m\u001b[43margs\u001b[49m\u001b[43m)\u001b[49m\u001b[43m,\u001b[49m\n\u001b[0;32m   1489\u001b[0m \u001b[43m            \u001b[49m\u001b[38;5;241;43m*\u001b[39;49m\u001b[38;5;241;43m*\u001b[39;49m\u001b[43m{\u001b[49m\u001b[43mk\u001b[49m\u001b[43m:\u001b[49m\u001b[43m \u001b[49m\u001b[43msanitize_sequence\u001b[49m\u001b[43m(\u001b[49m\u001b[43mv\u001b[49m\u001b[43m)\u001b[49m\u001b[43m \u001b[49m\u001b[38;5;28;43;01mfor\u001b[39;49;00m\u001b[43m \u001b[49m\u001b[43mk\u001b[49m\u001b[43m,\u001b[49m\u001b[43m \u001b[49m\u001b[43mv\u001b[49m\u001b[43m \u001b[49m\u001b[38;5;129;43;01min\u001b[39;49;00m\u001b[43m \u001b[49m\u001b[43mkwargs\u001b[49m\u001b[38;5;241;43m.\u001b[39;49m\u001b[43mitems\u001b[49m\u001b[43m(\u001b[49m\u001b[43m)\u001b[49m\u001b[43m}\u001b[49m\u001b[43m)\u001b[49m\n\u001b[0;32m   1491\u001b[0m     bound \u001b[38;5;241m=\u001b[39m new_sig\u001b[38;5;241m.\u001b[39mbind(ax, \u001b[38;5;241m*\u001b[39margs, \u001b[38;5;241m*\u001b[39m\u001b[38;5;241m*\u001b[39mkwargs)\n\u001b[0;32m   1492\u001b[0m     auto_label \u001b[38;5;241m=\u001b[39m (bound\u001b[38;5;241m.\u001b[39marguments\u001b[38;5;241m.\u001b[39mget(label_namer)\n\u001b[0;32m   1493\u001b[0m                   \u001b[38;5;129;01mor\u001b[39;00m bound\u001b[38;5;241m.\u001b[39mkwargs\u001b[38;5;241m.\u001b[39mget(label_namer))\n",
      "File \u001b[1;32m~\\AppData\\Local\\Packages\\PythonSoftwareFoundation.Python.3.11_qbz5n2kfra8p0\\LocalCache\\local-packages\\Python311\\site-packages\\matplotlib\\axes\\_axes.py:4787\u001b[0m, in \u001b[0;36mAxes.scatter\u001b[1;34m(self, x, y, s, c, marker, cmap, norm, vmin, vmax, alpha, linewidths, edgecolors, plotnonfinite, **kwargs)\u001b[0m\n\u001b[0;32m   4785\u001b[0m y \u001b[38;5;241m=\u001b[39m np\u001b[38;5;241m.\u001b[39mma\u001b[38;5;241m.\u001b[39mravel(y)\n\u001b[0;32m   4786\u001b[0m \u001b[38;5;28;01mif\u001b[39;00m x\u001b[38;5;241m.\u001b[39msize \u001b[38;5;241m!=\u001b[39m y\u001b[38;5;241m.\u001b[39msize:\n\u001b[1;32m-> 4787\u001b[0m     \u001b[38;5;28;01mraise\u001b[39;00m \u001b[38;5;167;01mValueError\u001b[39;00m(\u001b[38;5;124m\"\u001b[39m\u001b[38;5;124mx and y must be the same size\u001b[39m\u001b[38;5;124m\"\u001b[39m)\n\u001b[0;32m   4789\u001b[0m \u001b[38;5;28;01mif\u001b[39;00m s \u001b[38;5;129;01mis\u001b[39;00m \u001b[38;5;28;01mNone\u001b[39;00m:\n\u001b[0;32m   4790\u001b[0m     s \u001b[38;5;241m=\u001b[39m (\u001b[38;5;241m20\u001b[39m \u001b[38;5;28;01mif\u001b[39;00m mpl\u001b[38;5;241m.\u001b[39mrcParams[\u001b[38;5;124m'\u001b[39m\u001b[38;5;124m_internal.classic_mode\u001b[39m\u001b[38;5;124m'\u001b[39m] \u001b[38;5;28;01melse\u001b[39;00m\n\u001b[0;32m   4791\u001b[0m          mpl\u001b[38;5;241m.\u001b[39mrcParams[\u001b[38;5;124m'\u001b[39m\u001b[38;5;124mlines.markersize\u001b[39m\u001b[38;5;124m'\u001b[39m] \u001b[38;5;241m*\u001b[39m\u001b[38;5;241m*\u001b[39m \u001b[38;5;241m2.0\u001b[39m)\n",
      "\u001b[1;31mValueError\u001b[0m: x and y must be the same size"
     ]
    },
    {
     "data": {
      "image/png": "[encoded data removed]",
      "text/plain": [
       "<Figure size 640x480 with 1 Axes>"
      ]
     },
     "metadata": {},
     "output_type": "display_data"
    }
   ],
   "source": [
    "plt.scatter(X, y, c=KModel.labels_)\n",
    "#plt.legend(scatter.legend_elements()[0], iris.target_names)\n",
    "plt.show"
   ]
  },
  {
   "cell_type": "markdown",
   "id": "5cdf3716",
   "metadata": {},
   "source": [
    "## Exam Questions\n",
    "* **Justify Your Feature Selection:**\n",
    "   - Which features did you choose for clustering and why?\n",
    "* **Number of Clusters Choices:**\n",
    "   - How did you determine the optimal number?\n",
    "* **Evaluation:**\n",
    "   - Which metrics did you use to evaluate the clustering results, and why?\n",
    "   - How do these metrics help in understanding the effectiveness of your clustering approach?\n",
    "* **Improvements and Recommendations:**\n",
    "   - Suggest any improvements or future work that could be done with this dataset. What other methods or algorithms would you consider applying?"
   ]
  },
  {
   "cell_type": "markdown",
   "id": "4d02df4e",
   "metadata": {},
   "source": [
    "I used VarianceThreshold to select features and choose 0.7 as a threshhold"
   ]
  },
  {
   "cell_type": "markdown",
   "id": "55e8c8ef",
   "metadata": {},
   "source": [
    "I couldnt visulaize the clusters"
   ]
  },
  {
   "cell_type": "markdown",
   "id": "b71ad872",
   "metadata": {},
   "source": [
    "I was unable to train and evaluate the model "
   ]
  },
  {
   "cell_type": "markdown",
   "id": "3d28501b",
   "metadata": {},
   "source": [
    "I need more time "
   ]
  },
  {
   "cell_type": "markdown",
   "id": "943a495f",
   "metadata": {},
   "source": []
  }
 ],
 "metadata": {
  "kernelspec": {
   "display_name": "Python 3",
   "language": "python",
   "name": "python3"
  },
  "language_info": {
   "codemirror_mode": {
    "name": "ipython",
    "version": 3
   },
   "file_extension": ".py",
   "mimetype": "text/x-python",
   "name": "python",
   "nbconvert_exporter": "python",
   "pygments_lexer": "ipython3",
   "version": "3.11.9"
  }
 },
 "nbformat": 4,
 "nbformat_minor": 5
}
